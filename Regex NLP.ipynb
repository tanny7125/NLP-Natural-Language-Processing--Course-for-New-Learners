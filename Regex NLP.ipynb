{
 "cells": [
  {
   "cell_type": "code",
   "execution_count": 39,
   "id": "d6f42665",
   "metadata": {},
   "outputs": [],
   "source": [
    "import re"
   ]
  },
  {
   "cell_type": "markdown",
   "id": "a38f32b4",
   "metadata": {},
   "source": [
    "# Retrieve Email id and phone no"
   ]
  },
  {
   "cell_type": "code",
   "execution_count": 40,
   "id": "b2a94001",
   "metadata": {},
   "outputs": [],
   "source": [
    "chat1 = 'codebasics: you ask lot of questions 😠  1235678912, abc@xyz.com'\n",
    "chat2 = 'codebasics: here it is: (123)-567-8912, abc@xyz.com'\n",
    "chat3 = 'codebasics: yes, phone: 1235678912 email: abc@xyz.com'"
   ]
  },
  {
   "cell_type": "code",
   "execution_count": 41,
   "id": "8ca0b165",
   "metadata": {},
   "outputs": [],
   "source": [
    "#function to match pattern and chat\n",
    "def helper(pattern,text):\n",
    "    match = re.findall(pattern,text)\n",
    "    if match:\n",
    "        return match[0]"
   ]
  },
  {
   "cell_type": "code",
   "execution_count": 42,
   "id": "25655dcd",
   "metadata": {},
   "outputs": [],
   "source": [
    "#To retrieve Phone no"
   ]
  },
  {
   "cell_type": "code",
   "execution_count": 45,
   "id": "4c9fe687",
   "metadata": {},
   "outputs": [
    {
     "data": {
      "text/plain": [
       "'1235678912'"
      ]
     },
     "execution_count": 45,
     "metadata": {},
     "output_type": "execute_result"
    }
   ],
   "source": [
    "#To Retrieve from chat1\n",
    "pattern = '\\d{10}'\n",
    "helper(pattern,chat1)"
   ]
  },
  {
   "cell_type": "code",
   "execution_count": 46,
   "id": "24bae234",
   "metadata": {},
   "outputs": [
    {
     "data": {
      "text/plain": [
       "'(123)-567-8912'"
      ]
     },
     "execution_count": 46,
     "metadata": {},
     "output_type": "execute_result"
    }
   ],
   "source": [
    "#To Retreieve from chat2 since we have bracket again we take help from regex101\n",
    "pattern = '\\d{10}|\\(\\d{3}\\)-\\d{3}-\\d{4}'\n",
    "helper(pattern,chat2)"
   ]
  },
  {
   "cell_type": "code",
   "execution_count": 48,
   "id": "07775533",
   "metadata": {},
   "outputs": [
    {
     "data": {
      "text/plain": [
       "'1235678912'"
      ]
     },
     "execution_count": 48,
     "metadata": {},
     "output_type": "execute_result"
    }
   ],
   "source": [
    "pattern = '\\d{10}|\\(\\d{3}\\)-\\d{3}-\\d{4}'\n",
    "helper(pattern,chat3)"
   ]
  },
  {
   "cell_type": "markdown",
   "id": "a875c73d",
   "metadata": {},
   "source": [
    "# To retrieve email id"
   ]
  },
  {
   "cell_type": "code",
   "execution_count": 52,
   "id": "b3c2c2a7",
   "metadata": {},
   "outputs": [
    {
     "data": {
      "text/plain": [
       "'abc@xyz.c'"
      ]
     },
     "execution_count": 52,
     "metadata": {},
     "output_type": "execute_result"
    }
   ],
   "source": [
    "#Again lets revisit regex 101\n",
    "pattern = '[a-z0-9A-Z_]*@[a-zA-Z]*\\.[a-zA-Z]'#We take \\. in order to give . importance\n",
    "helper(pattern,chat1)"
   ]
  },
  {
   "cell_type": "code",
   "execution_count": 53,
   "id": "ddec183a",
   "metadata": {},
   "outputs": [
    {
     "data": {
      "text/plain": [
       "'abc@xyz.c'"
      ]
     },
     "execution_count": 53,
     "metadata": {},
     "output_type": "execute_result"
    }
   ],
   "source": [
    "pattern = '[a-z0-9A-Z_]*@[a-zA-Z]*\\.[a-zA-Z]'\n",
    "helper(pattern,chat2)"
   ]
  },
  {
   "cell_type": "code",
   "execution_count": 54,
   "id": "93140921",
   "metadata": {},
   "outputs": [
    {
     "data": {
      "text/plain": [
       "'abc@xyz.c'"
      ]
     },
     "execution_count": 54,
     "metadata": {},
     "output_type": "execute_result"
    }
   ],
   "source": [
    "pattern = '[a-z0-9A-Z_]*@[a-zA-Z]*\\.[a-zA-Z]'\n",
    "helper(pattern,chat3)"
   ]
  },
  {
   "cell_type": "markdown",
   "id": "9ec92cfd",
   "metadata": {},
   "source": [
    "# Regex in customer support"
   ]
  },
  {
   "cell_type": "code",
   "execution_count": 55,
   "id": "a3aa157c",
   "metadata": {},
   "outputs": [
    {
     "data": {
      "text/plain": [
       "['412889912']"
      ]
     },
     "execution_count": 55,
     "metadata": {},
     "output_type": "execute_result"
    }
   ],
   "source": [
    "#In order to learn basics of regex go to regex 101 site\n",
    "chat1='codebasics: Hello, I am having an issue with my order # 412889912'\n",
    "pattern = 'order[^\\d]*(\\d*)'\n",
    "t = re.findall(pattern,chat1)# re.findall syntax is imp first pattern then text\n",
    "t"
   ]
  },
  {
   "cell_type": "code",
   "execution_count": 56,
   "id": "57cee2a8",
   "metadata": {},
   "outputs": [
    {
     "data": {
      "text/plain": [
       "['412889912']"
      ]
     },
     "execution_count": 56,
     "metadata": {},
     "output_type": "execute_result"
    }
   ],
   "source": [
    "#further more example are as follows\n",
    "chat2='codebasics: My order 412889912 is having an issue, I was charged 300$ when online it says 280$'\n",
    "pattern = 'order[^\\d]*(\\d*)'\n",
    "matches = re.findall(pattern, chat2)\n",
    "matches"
   ]
  },
  {
   "cell_type": "markdown",
   "id": "a85bc2a8",
   "metadata": {},
   "source": [
    "# Regex To find the age , birthplace,birthdate of a person"
   ]
  },
  {
   "cell_type": "code",
   "execution_count": null,
   "id": "d0154b04",
   "metadata": {},
   "outputs": [],
   "source": [
    "#In order to find the birth place and age of the person we need to make a pattern in order to match\n",
    "#the age and birthplace of a person "
   ]
  }
 ],
 "metadata": {
  "kernelspec": {
   "display_name": "Python 3 (ipykernel)",
   "language": "python",
   "name": "python3"
  },
  "language_info": {
   "codemirror_mode": {
    "name": "ipython",
    "version": 3
   },
   "file_extension": ".py",
   "mimetype": "text/x-python",
   "name": "python",
   "nbconvert_exporter": "python",
   "pygments_lexer": "ipython3",
   "version": "3.10.6"
  }
 },
 "nbformat": 4,
 "nbformat_minor": 5
}
