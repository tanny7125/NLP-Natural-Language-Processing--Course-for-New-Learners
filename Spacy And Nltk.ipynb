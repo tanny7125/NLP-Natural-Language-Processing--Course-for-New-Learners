{
 "cells": [
  {
   "cell_type": "code",
   "execution_count": 1,
   "id": "ca9b100e",
   "metadata": {},
   "outputs": [],
   "source": [
    "#In this particular model we will look at the difference between spact and nltk"
   ]
  },
  {
   "cell_type": "code",
   "execution_count": 6,
   "id": "3c7f662c",
   "metadata": {},
   "outputs": [],
   "source": [
    "import spacy"
   ]
  },
  {
   "cell_type": "code",
   "execution_count": 7,
   "id": "21c5c643",
   "metadata": {},
   "outputs": [],
   "source": [
    "d = spacy.load(\"en_core_web_sm\")"
   ]
  },
  {
   "cell_type": "code",
   "execution_count": 8,
   "id": "e497de77",
   "metadata": {},
   "outputs": [],
   "source": [
    "sentence = (\"Hi My name is Dr.Dhruv Taneja.I study in jaypee institute of information and technology\")\n",
    "dhruv = d(sentence)"
   ]
  },
  {
   "cell_type": "code",
   "execution_count": 9,
   "id": "4cba3b34",
   "metadata": {},
   "outputs": [
    {
     "name": "stdout",
     "output_type": "stream",
     "text": [
      "Hi My name is Dr.Dhruv Taneja.\n",
      "I study in jaypee institute of information and technology\n"
     ]
    }
   ],
   "source": [
    "#If we need to break a sentence into multiple sentence we used spacy.load(\"en_core_web_sm\").It is a smart library which is very useful\n",
    "for s in dhruv.sents:\n",
    "    print(s)"
   ]
  },
  {
   "cell_type": "code",
   "execution_count": 10,
   "id": "87cf22aa",
   "metadata": {},
   "outputs": [
    {
     "name": "stdout",
     "output_type": "stream",
     "text": [
      "Hi\n",
      "My\n",
      "name\n",
      "is\n",
      "Dr.\n",
      "Dhruv\n",
      "Taneja\n",
      ".\n",
      "I\n",
      "study\n",
      "in\n",
      "jaypee\n",
      "institute\n",
      "of\n",
      "information\n",
      "and\n",
      "technology\n"
     ]
    }
   ],
   "source": [
    "#To break sentences into words we use two for loops\n",
    "for s in dhruv.sents:\n",
    "    for q in s:\n",
    "        print(q)\n"
   ]
  },
  {
   "cell_type": "markdown",
   "id": "a7690989",
   "metadata": {},
   "source": [
    "# Sentence & Word Tokenization In NLTK"
   ]
  },
  {
   "cell_type": "code",
   "execution_count": 13,
   "id": "a6911599",
   "metadata": {},
   "outputs": [
    {
     "name": "stderr",
     "output_type": "stream",
     "text": [
      "[nltk_data] Error loading punkt: <urlopen error [WinError 10060] A\n",
      "[nltk_data]     connection attempt failed because the connected party\n",
      "[nltk_data]     did not properly respond after a period of time, or\n",
      "[nltk_data]     established connection failed because connected host\n",
      "[nltk_data]     has failed to respond>\n"
     ]
    },
    {
     "data": {
      "text/plain": [
       "False"
      ]
     },
     "execution_count": 13,
     "metadata": {},
     "output_type": "execute_result"
    }
   ],
   "source": [
    "#Since nltk is older lib than spacy therefore for nltk we have different lib for word tokenisation and sent tokenisation\n",
    "import nltk\n",
    "from nltk.tokenize import sent_tokenize\n",
    "nltk.download('punkt')"
   ]
  },
  {
   "cell_type": "code",
   "execution_count": 14,
   "id": "f958ba95",
   "metadata": {},
   "outputs": [
    {
     "data": {
      "text/plain": [
       "['Hi My name is Dr.Dhruv Taneja.I study in jaypee institute of information and technology']"
      ]
     },
     "execution_count": 14,
     "metadata": {},
     "output_type": "execute_result"
    }
   ],
   "source": [
    "#for sentence tokenisation we use sent_tokenize\n",
    "sent_tokenize(\"Hi My name is Dr.Dhruv Taneja.I study in jaypee institute of information and technology\")"
   ]
  },
  {
   "cell_type": "code",
   "execution_count": 15,
   "id": "b8ad2d67",
   "metadata": {},
   "outputs": [],
   "source": [
    "from nltk.tokenize import word_tokenize\n"
   ]
  },
  {
   "cell_type": "code",
   "execution_count": 16,
   "id": "a442a79a",
   "metadata": {},
   "outputs": [
    {
     "data": {
      "text/plain": [
       "['Dr',\n",
       " '.',\n",
       " 'Strange',\n",
       " 'loves',\n",
       " 'pav',\n",
       " 'bhaji',\n",
       " 'of',\n",
       " 'mumbai',\n",
       " '.',\n",
       " 'Hulk',\n",
       " 'loves',\n",
       " 'chat',\n",
       " 'of',\n",
       " 'delhi']"
      ]
     },
     "execution_count": 16,
     "metadata": {},
     "output_type": "execute_result"
    }
   ],
   "source": [
    "#for tokenisation of words we use \n",
    "word_tokenize(\"Dr. Strange loves pav bhaji of mumbai. Hulk loves chat of delhi\")"
   ]
  },
  {
   "cell_type": "code",
   "execution_count": null,
   "id": "3605d608",
   "metadata": {},
   "outputs": [],
   "source": []
  }
 ],
 "metadata": {
  "kernelspec": {
   "display_name": "Python 3 (ipykernel)",
   "language": "python",
   "name": "python3"
  },
  "language_info": {
   "codemirror_mode": {
    "name": "ipython",
    "version": 3
   },
   "file_extension": ".py",
   "mimetype": "text/x-python",
   "name": "python",
   "nbconvert_exporter": "python",
   "pygments_lexer": "ipython3",
   "version": "3.10.6"
  }
 },
 "nbformat": 4,
 "nbformat_minor": 5
}
