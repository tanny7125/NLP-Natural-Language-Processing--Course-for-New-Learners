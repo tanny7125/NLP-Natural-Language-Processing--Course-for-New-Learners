{
 "cells": [
  {
   "cell_type": "code",
   "execution_count": 1,
   "id": "1eb09f60",
   "metadata": {},
   "outputs": [
    {
     "name": "stdout",
     "output_type": "stream",
     "text": [
      "Hi\n",
      "my\n",
      "name\n",
      "is\n",
      "dhruv\n",
      "taneja\n",
      ".I\n",
      "love\n",
      "ml\n",
      ",\n",
      "nlp\n",
      ",\n",
      "computer\n",
      "vision\n",
      ",\n",
      "dl\n",
      ".\n"
     ]
    }
   ],
   "source": [
    "import spacy\n",
    "\n",
    "n = spacy.blank(\"en\")\n",
    "\n",
    "doc = n(\"Hi my name is dhruv taneja .I love ml,nlp,computer vision,dl.\")\n",
    "\n",
    "for token in doc:\n",
    "    print(token)\n"
   ]
  },
  {
   "cell_type": "code",
   "execution_count": 4,
   "id": "dd8990a6",
   "metadata": {},
   "outputs": [
    {
     "data": {
      "text/plain": [
       "[]"
      ]
     },
     "execution_count": 4,
     "metadata": {},
     "output_type": "execute_result"
    }
   ],
   "source": [
    "#This being empty indicates there is nothing in the pipeline like tokeniser,stemming etc.\n",
    "n.pipe_names"
   ]
  },
  {
   "cell_type": "code",
   "execution_count": 8,
   "id": "d1f6748a",
   "metadata": {},
   "outputs": [
    {
     "data": {
      "text/plain": [
       "['tok2vec', 'tagger', 'parser', 'attribute_ruler', 'lemmatizer', 'ner']"
      ]
     },
     "execution_count": 8,
     "metadata": {},
     "output_type": "execute_result"
    }
   ],
   "source": [
    "#To download the pipeline we need to install by loading the particular pipeline for all the process\n",
    "n = spacy.load(\"en_core_web_sm\")\n",
    "n.pipe_names\n",
    "#We can see the parts of pipeline that are given below"
   ]
  },
  {
   "cell_type": "code",
   "execution_count": 10,
   "id": "f81de048",
   "metadata": {},
   "outputs": [
    {
     "data": {
      "text/plain": [
       "[('tok2vec', <spacy.pipeline.tok2vec.Tok2Vec at 0x1e8ba3ec820>),\n",
       " ('tagger', <spacy.pipeline.tagger.Tagger at 0x1e8ba3ec8e0>),\n",
       " ('parser', <spacy.pipeline.dep_parser.DependencyParser at 0x1e8b9ba42e0>),\n",
       " ('attribute_ruler',\n",
       "  <spacy.pipeline.attributeruler.AttributeRuler at 0x1e8b613bc40>),\n",
       " ('lemmatizer', <spacy.lang.en.lemmatizer.EnglishLemmatizer at 0x1e8ba2dcb80>),\n",
       " ('ner', <spacy.pipeline.ner.EntityRecognizer at 0x1e8b9ba4890>)]"
      ]
     },
     "execution_count": 10,
     "metadata": {},
     "output_type": "execute_result"
    }
   ],
   "source": [
    "#This is done in order to initate pipeline for the particular sentence\n",
    "n.pipeline"
   ]
  },
  {
   "cell_type": "code",
   "execution_count": 16,
   "id": "78d8a4d6",
   "metadata": {},
   "outputs": [
    {
     "name": "stdout",
     "output_type": "stream",
     "text": [
      "Hi  |  interjection  |  hi\n",
      "my  |  pronoun  |  my\n",
      "name  |  noun  |  name\n",
      "is  |  auxiliary  |  be\n",
      "dhruv  |  proper noun  |  dhruv\n",
      "taneja  |  proper noun  |  taneja\n",
      ".I  |  proper noun  |  .I\n",
      "love  |  proper noun  |  love\n",
      "ml  |  proper noun  |  ml\n",
      ",  |  punctuation  |  ,\n",
      "nlp  |  proper noun  |  nlp\n",
      ",  |  punctuation  |  ,\n",
      "computer  |  noun  |  computer\n",
      "vision  |  noun  |  vision\n",
      ",  |  punctuation  |  ,\n",
      "dl  |  proper noun  |  dl\n",
      ".  |  punctuation  |  .\n"
     ]
    }
   ],
   "source": [
    "d = n(\"Hi my name is dhruv taneja .I love ml,nlp,computer vision,dl.\")\n",
    "\n",
    "for token in d:\n",
    "    print(token,\" | \", spacy.explain(token.pos_) ,\" | \", token.lemma_)"
   ]
  },
  {
   "cell_type": "markdown",
   "id": "84368edc",
   "metadata": {},
   "source": [
    "# Named Entity Recognition"
   ]
  },
  {
   "cell_type": "code",
   "execution_count": 19,
   "id": "cb1fa22f",
   "metadata": {},
   "outputs": [
    {
     "name": "stdout",
     "output_type": "stream",
     "text": [
      "Tesla Inc ORG\n",
      "$45 billion MONEY\n"
     ]
    }
   ],
   "source": [
    "#This is done in order to get the name and label of the paprticular word this can be done using ner of pipeline\n",
    "#Try doing all these steps without pipeline and see the output\n",
    "dhruv = n(\"Tesla Inc is going to acquire twitter for $45 billion\")\n",
    "\n",
    "for ent in dhruv.ents:\n",
    "    print(ent.text,ent.label_)"
   ]
  },
  {
   "cell_type": "code",
   "execution_count": 21,
   "id": "a4a645bd",
   "metadata": {},
   "outputs": [
    {
     "data": {
      "text/html": [
       "<span class=\"tex2jax_ignore\"><div class=\"entities\" style=\"line-height: 2.5; direction: ltr\">\n",
       "<mark class=\"entity\" style=\"background: #7aecec; padding: 0.45em 0.6em; margin: 0 0.25em; line-height: 1; border-radius: 0.35em;\">\n",
       "    Tesla Inc\n",
       "    <span style=\"font-size: 0.8em; font-weight: bold; line-height: 1; border-radius: 0.35em; vertical-align: middle; margin-left: 0.5rem\">ORG</span>\n",
       "</mark>\n",
       " is going to acquire twitter for \n",
       "<mark class=\"entity\" style=\"background: #e4e7d2; padding: 0.45em 0.6em; margin: 0 0.25em; line-height: 1; border-radius: 0.35em;\">\n",
       "    $45 billion\n",
       "    <span style=\"font-size: 0.8em; font-weight: bold; line-height: 1; border-radius: 0.35em; vertical-align: middle; margin-left: 0.5rem\">MONEY</span>\n",
       "</mark>\n",
       "</div></span>"
      ],
      "text/plain": [
       "<IPython.core.display.HTML object>"
      ]
     },
     "metadata": {},
     "output_type": "display_data"
    }
   ],
   "source": [
    "#This is done in order to show the entities a little fancier\n",
    "from spacy import displacy\n",
    "\n",
    "displacy.render(dhruv, style=\"ent\")"
   ]
  },
  {
   "cell_type": "markdown",
   "id": "ba7c538c",
   "metadata": {},
   "source": [
    "# For France Language"
   ]
  },
  {
   "cell_type": "code",
   "execution_count": 26,
   "id": "f9cd7c43",
   "metadata": {},
   "outputs": [],
   "source": [
    "#for this we need to download the python -m spacy download fr_core_news_sm in command prompt or download this lib in anyone env u are using\n",
    "nlp = spacy.load(\"fr_core_news_sm\")"
   ]
  },
  {
   "cell_type": "code",
   "execution_count": 27,
   "id": "896a9fb3",
   "metadata": {},
   "outputs": [
    {
     "name": "stdout",
     "output_type": "stream",
     "text": [
      "Tesla\n",
      "Inc\n",
      "va\n",
      "racheter\n",
      "Twitter\n",
      "pour\n",
      "$\n",
      "45\n",
      "milliards\n",
      "de\n",
      "dollars\n"
     ]
    }
   ],
   "source": [
    "doc = nlp(\"Tesla Inc va racheter Twitter pour $45 milliards de dollars\")\n",
    "for token in doc:\n",
    "    print(token)"
   ]
  },
  {
   "cell_type": "code",
   "execution_count": 30,
   "id": "1773735e",
   "metadata": {},
   "outputs": [
    {
     "name": "stdout",
     "output_type": "stream",
     "text": [
      "Tesla  |  PROPN  |  Tesla\n",
      "Inc  |  PROPN  |  Inc\n",
      "va  |  VERB  |  aller\n",
      "racheter  |  VERB  |  racheter\n",
      "Twitter  |  VERB  |  twitter\n",
      "pour  |  ADP  |  pour\n",
      "$  |  NOUN  |  dollar\n",
      "45  |  NUM  |  45\n",
      "milliards  |  NOUN  |  milliard\n",
      "de  |  ADP  |  de\n",
      "dollars  |  NOUN  |  dollar\n"
     ]
    }
   ],
   "source": [
    "#For the part of speech and lemmatisation word of the particular sentence\n",
    "for token in doc:\n",
    "    print(token,\" | \",token.pos_,\" | \",token.lemma_)"
   ]
  },
  {
   "cell_type": "code",
   "execution_count": 32,
   "id": "9e9d7cac",
   "metadata": {},
   "outputs": [
    {
     "name": "stdout",
     "output_type": "stream",
     "text": [
      "dollars  |  ORG  |  Tesla Inc\n",
      "dollars  |  MISC  |  Twitter\n"
     ]
    }
   ],
   "source": [
    "for ent in doc.ents:\n",
    "    print(token,\" | \",ent.label_,\" | \",ent.text)"
   ]
  },
  {
   "cell_type": "markdown",
   "id": "6286fabd",
   "metadata": {},
   "source": [
    "# Adding a component to a blank pipeline"
   ]
  },
  {
   "cell_type": "code",
   "execution_count": 34,
   "id": "a65da348",
   "metadata": {},
   "outputs": [
    {
     "data": {
      "text/plain": [
       "['ner']"
      ]
     },
     "execution_count": 34,
     "metadata": {},
     "output_type": "execute_result"
    }
   ],
   "source": [
    "#This is done in order to add some component to a pipeline instead of adding the whole thing to the pipeline\n",
    "source_nlp = spacy.load(\"en_core_web_sm\")\n",
    "\n",
    "nlp = spacy.blank(\"en\")\n",
    "nlp.add_pipe(\"ner\", source=source_nlp)\n",
    "nlp.pipe_names"
   ]
  },
  {
   "cell_type": "code",
   "execution_count": 36,
   "id": "4992def5",
   "metadata": {},
   "outputs": [
    {
     "name": "stdout",
     "output_type": "stream",
     "text": [
      "Tesla Inc ORG\n",
      "$45 billion MONEY\n"
     ]
    }
   ],
   "source": [
    "doc = nlp(\"Tesla Inc is going to acquire twitter for $45 billion\")\n",
    "for ent in doc.ents:\n",
    "    print(ent.text, ent.label_)"
   ]
  },
  {
   "cell_type": "code",
   "execution_count": null,
   "id": "5b126387",
   "metadata": {},
   "outputs": [],
   "source": []
  }
 ],
 "metadata": {
  "kernelspec": {
   "display_name": "Python 3 (ipykernel)",
   "language": "python",
   "name": "python3"
  },
  "language_info": {
   "codemirror_mode": {
    "name": "ipython",
    "version": 3
   },
   "file_extension": ".py",
   "mimetype": "text/x-python",
   "name": "python",
   "nbconvert_exporter": "python",
   "pygments_lexer": "ipython3",
   "version": "3.10.6"
  }
 },
 "nbformat": 4,
 "nbformat_minor": 5
}
